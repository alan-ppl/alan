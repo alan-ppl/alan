{
 "cells": [
  {
   "cell_type": "markdown",
   "metadata": {},
   "source": [
    "# Introduction to Alan\n",
    "\n",
    "Alan is a probabilistic programming language that aims to provide a simple and intuitive way to perform fast Bayesian inference. In particular it is designed to showcase the \"Massively Parallel\" framework as outlined in [[Massively Parallel Reweighted Wake-Sleep]](https://arxiv.org/abs/2305.11022) and the source trick for computing posterior moments as outlined in [[Using autodiff to estimate posterior moments, marginals and samples]](https://arxiv.org/abs/2310.17374). This introduction assumes some prior familiarity with Bayesian inference and in particular variational Bayesian methods, for those who are not familiar with these [[Variational Inference: A Review for Statisticians]](https://arxiv.org/abs/1601.00670) gives a good overview."
   ]
  },
  {
   "cell_type": "markdown",
   "metadata": {},
   "source": [
    "# Outline\n",
    "* [Introduction](#Introduction-to-Alan)\n",
    "* [Setup](#Setup)\n",
    "* [Background](#Background)\n",
    "    * [Variational Inference](#Variational-Inference)\n",
    "    * [Importance Sampling](#Importance-Sampling)\n",
    "        * [Massively Parallel Importance Sampling](#Massively-Parallel-Importance-Sampling)\n",
    "    * [Reweighted Wake-Sleep](#Reweighted-Wake-Sleep)\n",
    "    * [Plated Models](#Plated-Models)\n",
    "        * [MovieLens](#MovieLens)\n",
    "\n"
   ]
  },
  {
   "cell_type": "markdown",
   "metadata": {},
   "source": [
    "# Setup\n",
    "\n",
    "Lets get our imports out of the way first."
   ]
  },
  {
   "cell_type": "code",
   "execution_count": 1,
   "metadata": {},
   "outputs": [],
   "source": [
    "import torch as t\n",
    "import torch.nn as nn\n",
    "from alan import Normal, Plate, BoundPlate, Group, Problem, Data, mean, Split, OptParam, QEMParam, checkpoint, no_checkpoint, Split\n",
    "\n",
    "import matplotlib.pyplot as plt\n",
    "\n",
    "t.manual_seed(0)\n",
    "\n",
    "# choose which device to use \n",
    "device = 'cpu'                    #Options cpu, cuda, mps (on an Apple M)\n",
    "\n",
    "# The computational strategy can be set to use checkpointing (https://pytorch.org/docs/stable/checkpoint.html), \n",
    "# which can reduce memory usage at the cost of speed. We can also choose to split along a plate dimension to reduce memory usage.\n",
    "computation_strategy = checkpoint #Options no_checkpoint, checkpoint, Split('p1', 3)"
   ]
  },
  {
   "cell_type": "markdown",
   "metadata": {},
   "source": [
    "# Background\n",
    "\n",
    "In the Bayesian inference framework we reason about unknown quantities, for instance the parameters of a model, by specifying a model, consisting of a prior and a likelihood, that describes how the data was generated. We then use Bayes rule to compute the posterior distribution over the unknown quantities given the data.\n",
    "\n",
    "In general this requires an intractable expectation and so we must resort to approximations. Probabilistic programming languages provide a convenient way to specify a model and then perform inference on it. Using Alan you can specify a prior $p(\\theta)$, a likelihood $p(x|\\theta)$ as follows:\n"
   ]
  },
  {
   "cell_type": "code",
   "execution_count": 2,
   "metadata": {},
   "outputs": [
    {
     "name": "stderr",
     "output_type": "stream",
     "text": [
      "/home/thomas/anaconda3/envs/alan_simp/lib/python3.10/site-packages/torch/_tensor.py:1375: UserWarning: Named tensors and all their associated APIs are an experimental feature and subject to change. Please do not use them for anything important until they are released as stable. (Triggered internally at ../c10/core/TensorImpl.h:1907.)\n",
      "  return super().rename(names)\n"
     ]
    }
   ],
   "source": [
    "P_plate = Plate( \n",
    "    mu = Normal(0, 1),\n",
    "    p1 = Plate(\n",
    "        obs = Normal('mu', 1),\n",
    "    ),\n",
    ")\n",
    "\n",
    "plate_sizes = {'p1': 3}\n",
    "P_bound_plate = BoundPlate(P_plate, plate_sizes)"
   ]
  },
  {
   "cell_type": "markdown",
   "metadata": {},
   "source": [
    "Here ``mu = Normal(0, 1)`` corresponds the prior and ``obs = Normal('mu', 1)`` corresponds to the likelihood. So our model would look like:\n",
    "\n",
    "$$\n",
    "\\begin{align}\n",
    "\\mu &\\sim \\mathcal{N}(0, 1) \\\\\n",
    "\\text{obs} &\\sim \\mathcal{N}(\\mu, 1)\n",
    "\\end{align}\n",
    "$$\n",
    "\n",
    "Note that we must bind ``P_plate`` with ``BoundPlate(P_plate)`` before using it. This binds plate ``P_plate`` to plate sizes, inputs and initialises any parameters in the plate. We will see examples of all these later. For now let's sample some synthetic data from this model:"
   ]
  },
  {
   "cell_type": "code",
   "execution_count": 3,
   "metadata": {},
   "outputs": [],
   "source": [
    "P_sample = P_bound_plate.sample()"
   ]
  },
  {
   "cell_type": "markdown",
   "metadata": {},
   "source": [
    "\n",
    "Then we can perform inference in the following ways: \n",
    "\n",
    "1. approximate the posterior $p(\\theta|x)$ using a variational approximation $q_\\phi(\\theta)$\n",
    "2. compute importance weighted moment estimates of the posterior $p(\\theta|x)$\n",
    "\n",
    "Lets look first at variational inference.\n"
   ]
  },
  {
   "cell_type": "markdown",
   "metadata": {},
   "source": [
    "## Variational Inference\n",
    "\n",
    "Variational inference is a method for approximating the posterior distribution $p(\\theta|x)$ by finding the member of a family of distributions $q_\\phi(\\theta)$ that is closest to the posterior in terms of the KL-divergence between them.\n",
    "\n",
    "Our approximate posterior is a member of a family of distributions $q_\\phi(\\theta)$ parameterised by $\\phi$. We can then find the optimal parameters $\\phi^*$ by minimising the KL-divergence between the approximate posterior and the true posterior:\n",
    "$$\n",
    "\\begin{align}\n",
    "\\phi^* &= \\arg\\min_\\phi \\text{KL}(q_\\phi(\\theta)||p(\\theta|x)) \\\\\n",
    "&= \\arg\\min_\\phi \\mathbb{E}_{q_\\phi(\\theta)}\\left[\\log q_\\phi(\\theta) - \\log p(\\theta|x)\\right] \\\\\n",
    "&= \\arg\\min_\\phi \\mathbb{E}_{q_\\phi(\\theta)}\\left[\\log q_\\phi(\\theta) - \\log p(x|\\theta) - \\log p(\\theta)\\right] \\\\\n",
    "\\end{align}\n",
    "$$\n",
    "\n",
    "In Alan we can define a variational distribution by specifying the type of distribution we want to use and the parameters of that distribution as follows:\n"
   ]
  },
  {
   "cell_type": "code",
   "execution_count": 4,
   "metadata": {},
   "outputs": [],
   "source": [
    "Q_plate = Plate( \n",
    "    mu = Normal(OptParam(0.), OptParam(1.)),\n",
    "    p1 = Plate(\n",
    "        obs = Data(),\n",
    "    ),\n",
    ")\n",
    "\n",
    "Q_bound_plate = BoundPlate(Q_plate, plate_sizes)"
   ]
  },
  {
   "cell_type": "markdown",
   "metadata": {},
   "source": [
    "This corresponds to a normal distribution with mean $\\mu$ and standard deviation $\\sigma$, initialised as $\\mu_0 = 0, \\sigma_0 = 0$. Note again that we need to bind ``Q_plate`` with ``BoundPlate(Q_plate)`` before using it. Note also that Q_plate must have the same plates as P_plate, and that we use the ``Data`` class to indicate non-latents.\n",
    "\n",
    "Then we can define an Alan \"problem\" conditioned on the synthetic data from above:"
   ]
  },
  {
   "cell_type": "code",
   "execution_count": 5,
   "metadata": {},
   "outputs": [
    {
     "data": {
      "text/plain": [
       "Problem(\n",
       "  (P): BoundPlate(\n",
       "    (_inputs): BufferStore()\n",
       "    (_opt_params): ParameterStore()\n",
       "    (_qem_params): BufferStore()\n",
       "    (_qem_means): BufferStore()\n",
       "    (_dists): ModuleStore(\n",
       "      (mu): Dist(\n",
       "        (tensor_args): BufferStore()\n",
       "      )\n",
       "      (obs): Dist(\n",
       "        (tensor_args): BufferStore()\n",
       "      )\n",
       "    )\n",
       "  )\n",
       "  (Q): BoundPlate(\n",
       "    (_inputs): BufferStore()\n",
       "    (_opt_params): ParameterStore()\n",
       "    (_qem_params): BufferStore()\n",
       "    (_qem_means): BufferStore()\n",
       "    (_dists): ModuleStore(\n",
       "      (mu): Dist(\n",
       "        (tensor_args): BufferStore()\n",
       "      )\n",
       "    )\n",
       "  )\n",
       "  (_data): BufferStore()\n",
       ")"
      ]
     },
     "execution_count": 5,
     "metadata": {},
     "output_type": "execute_result"
    }
   ],
   "source": [
    "data = {'obs': P_sample['obs']}\n",
    "\n",
    "problem = Problem(P_bound_plate, Q_bound_plate, data)\n",
    "#Move problem to the device.\n",
    "problem.to(device=device)"
   ]
  },
  {
   "cell_type": "markdown",
   "metadata": {},
   "source": [
    "We can find the optimal parameters of the variational distribution by minimising the KL divergence between the variational distribution and the posterior using gradient descent. In Alan we do this as follows:"
   ]
  },
  {
   "cell_type": "code",
   "execution_count": 6,
   "metadata": {},
   "outputs": [
    {
     "name": "stdout",
     "output_type": "stream",
     "text": [
      "K=1\n",
      "-15.279102325439453\n",
      "-6.616936683654785\n",
      "-2.8634040355682373\n",
      "-4.374089241027832\n",
      "-3.4545838832855225\n"
     ]
    }
   ],
   "source": [
    "opt = t.optim.Adam(problem.parameters(), lr=1e-3)\n",
    "\n",
    "K=1\n",
    "print(\"K={}\".format(K))\n",
    "for i in range(1000):\n",
    "    opt.zero_grad()\n",
    "    sample = problem.sample(K=K)\n",
    "    elbo = sample.elbo_vi(computation_strategy=computation_strategy)\n",
    "    elbo.backward()\n",
    "    opt.step()\n",
    "\n",
    "    if 0 == i%200:\n",
    "        print(elbo.item())"
   ]
  },
  {
   "cell_type": "markdown",
   "metadata": {},
   "source": [
    "## Importance Sampling\n",
    "\n",
    "Above you will notice that we define $K=1$. In Alan we use importance weighted estimates of the log marginal likelihood to calculate our objectives and other terms of interest. This means that we draw samples from our approximate posterior and then weight them by the ratio of the posterior and the variational distribution. We can write the evidence lower bound (ELBO) in the single sample setting as follows:\n",
    "\n",
    "$$\n",
    "\\begin{align}\n",
    "\\log p(x) &= \\log \\mathbb{E}_{q_\\phi(\\theta)}\\left[\\frac{p(x, \\theta)}{q_\\phi(\\theta)}\\right] \\\\\n",
    "&\\geq \\mathbb{E}_{q_\\phi(\\theta)}\\left[ \\log \\frac{p(x, \\theta)}{q_\\phi(\\theta)}\\right] \\\\\n",
    "&= \\mathbb{E}_{q_\\phi(\\theta)}\\left[ \\log \\mathcal{P} \\right]\n",
    "\\end{align}\n",
    "$$\n",
    "\n",
    "Where $\\log \\mathcal{P} = \\log \\frac{p(x, \\theta)}{q_\\phi(\\theta)}$ is an unbiased estimate of the log marginal likelihood (when samples are drawn from $q_\\phi(\\theta)$). We can then recover a number of methods of interest by making difference choices of $\\mathcal{P}$. For instance, we can recover the [[Importance weighted autoencoder]](https://arxiv.org/pdf/1509.00519.pdf) lower bound by taking multiple importance samples to obtain a better estimate of the log marginal likelihood like so:\n",
    "\n",
    "$$\n",
    "\\begin{align}\n",
    "\\log p(x) &\\geq \\mathbb{E}_{\\theta_k \\sim q_\\phi(\\theta)}\\left[ \\log \\frac{1}{K}\\sum_{k=1}^K \\frac{p(x, \\theta_k)}{q_\\phi(\\theta_k)} \\right] \\\\\n",
    "&= \\mathbb{E}_{q_\\phi(\\theta)}\\left[ \\log \\mathcal{P_{\\text{IW}}} \\right] \\\\\n",
    "\\end{align}\n",
    "$$\n"
   ]
  },
  {
   "cell_type": "markdown",
   "metadata": {},
   "source": [
    "### Massively Parallel Importance Sampling\n",
    "\n",
    "If we instead draw $K$ samples of each latent variable ($n$) Alan, and its massively parallel estimates of the log marginal likelihood, can be used to reason about all $K^n$ combinations of samples. To ease thinking about this, we denote the collection of K samples for latent $i$ as \n",
    "\n",
    "$$ \n",
    "z_i = \\{z_{i}^1, z_{i}^2, \\dots, z_{i}^K\\} \\in \\mathcal{Z}_i^K\n",
    "$$\n",
    "\n",
    "We sample these from IID distributions over the samples:\n",
    "\n",
    "$$\n",
    "Q_\\text{MP}(z|x) = \\prod_{i=1}^n Q_\\text{MP}(z_i|z_j \\text{ for all } j \\in \\text{qa}(i))\n",
    "$$\n",
    "\n",
    "where $\\text{qa}(i)$ denotes the parents of $z_i$ in the approximate posterior. We can choose how to construct $Q_\\text{MP}$, each choice being a different way of mixing across parent particles. More details can be found in appendix B of [[Massively Parallel Reweighted Wake-Sleep]](https://arxiv.org/abs/2305.11022).\n",
    "\n",
    "This construction should result in tighter evidence lower bounds in VI and better estimates of the posterior in sampling. In Alan we can perform massively parallel importance sampling VI as follows:"
   ]
  },
  {
   "cell_type": "code",
   "execution_count": 7,
   "metadata": {},
   "outputs": [
    {
     "name": "stdout",
     "output_type": "stream",
     "text": [
      "K=20\n",
      "-3.6262998580932617\n",
      "-3.5933971405029297\n",
      "-3.236876964569092\n",
      "-3.9943041801452637\n",
      "-3.8651156425476074\n"
     ]
    }
   ],
   "source": [
    "opt = t.optim.Adam(problem.parameters(), lr=1e-3)\n",
    "\n",
    "K=20\n",
    "print(\"K={}\".format(K))\n",
    "for i in range(1000):\n",
    "    opt.zero_grad()\n",
    "    sample = problem.sample(K=K)\n",
    "    elbo = sample.elbo_vi(computation_strategy=computation_strategy)\n",
    "    elbo.backward()\n",
    "    opt.step()\n",
    "\n",
    "    if 0 == i%200:\n",
    "        print(elbo.item())"
   ]
  },
  {
   "cell_type": "markdown",
   "metadata": {},
   "source": [
    "## (Massively Parallel) Reweighted Wake-Sleep\n",
    "\n",
    "[[Reweighted wake-sleep]](https://arxiv.org/abs/1406.2751) is a generalisation of [[wake-sleep]](https://www.mitpressjournals.org/doi/abs/10.1162/neco.1995.7.3.445): a two phase inference method for generative models and approximate posteriors. In particular, since reparaterisation is not required, it can be used with discrete latent variables.\n",
    "\n",
    "Unlike variational inference, reweighted wake-sleep doesn't have a unified objective. Instead it updates the parameters of the generative model and the approximate posterior with two different updates. In an ideal world where we had access to the true posterior we would perform:\n",
    "\n",
    "$$\n",
    "\\begin{align}\n",
    "  \\Delta \\theta_\\text{post} &= \\mathbb{E}_{P_\\theta(z^k| x)}[\\nabla_\\theta \\log P_\\theta(z, x)]\\\\\n",
    "  \\Delta \\phi_\\text{post} &= \\mathbb{E}_{P_\\theta(z^k| x)}[\\nabla_\\phi   \\log Q_\\phi(z| x)]\n",
    "\\end{align}\n",
    "$$\n",
    "\n",
    "The update for the parameters of P is the M-step in EM, and the update for the parameters of Q is maximum likelihood using samples from the true posterior.\n",
    "\n",
    "Since we don't have access to the true posterior we can sample from the approximate posterior and perform importance weighting. Noting that both of these updates are expectations under the approximate posterior we can write them in the form $\\Delta_\\text{post} = \\mathbb{E}_{P_\\theta(z^k| x)}[\\Delta(z^k)]$ and thus we get:\n",
    "\n",
    "$$\n",
    "\\begin{align}\n",
    "\\Delta_\\text{post} = \\mathbb{E}_{Q_\\phi(z^k| x)}\\left[\\frac{P_\\theta(z^k| x)}{Q_\\phi(z^k| x)}\\Delta(z^k)\\right]\n",
    "\\end{align}\n",
    "$$\n",
    "\n",
    "But since $P_\\theta(z^k| x) = \\frac{P_\\theta(z^k, x)}{P_\\theta(x)}$, and we can't usually compute $P_\\theta(x)$, we can instead use the unbiased importance weighting estimate of $P_\\theta(x)$ from earlier:\n",
    "\n",
    "$$\n",
    "\\begin{align}\n",
    "\\Delta_\\text{post} = \\mathbb{E}_{Q_\\phi(z^k| x)}\\left[\\frac{\\frac{P_\\theta(z^k, x)}{Q_\\phi(z^k| x)}}{P_\\text{IW}}\\Delta(z^k)\\right]\n",
    "\\end{align}\n",
    "$$\n",
    "\n",
    "And with a bit more tricky algebra we could also use the massively parallel importance sampling estimate of the log marginal likelihood:\n",
    "\n",
    "$$\n",
    "\\begin{align}\n",
    "\\Delta_\\text{post} = \\mathbb{E}_{Q_\\phi(z^k| x)}\\left[\\frac{\\frac{P_\\theta(z^k, x)}{\\prod_i Q(z_i^{k_i}| x, z_{\\text{qa}(i)})}}{P_\\text{MP}}\\Delta(z^k)\\right]\n",
    "\\end{align}\n",
    "$$\n",
    "\n",
    "To perform Massively Parallel Reweighted Wake-Sleep in Alan we can do the following:"
   ]
  },
  {
   "cell_type": "code",
   "execution_count": 8,
   "metadata": {},
   "outputs": [
    {
     "name": "stdout",
     "output_type": "stream",
     "text": [
      "K=20\n",
      "-3.9689669609069824\n",
      "-3.559515953063965\n",
      "-3.5540452003479004\n",
      "-3.533034324645996\n",
      "-3.551379680633545\n"
     ]
    }
   ],
   "source": [
    "rws_Q_opt = t.optim.Adam(problem.Q.parameters(), lr=0.01, maximize=False)\n",
    "\n",
    "K=20\n",
    "print(\"K={}\".format(K))\n",
    "for i in range(1000):\n",
    "    rws_Q_opt.zero_grad()\n",
    "    sample = problem.sample(K=K)\n",
    "    rws = sample.elbo_rws(computation_strategy=computation_strategy)\n",
    "    rws.backward()\n",
    "    rws_Q_opt.step()\n",
    "\n",
    "    if 0 == i%200:\n",
    "        print(rws.item())"
   ]
  },
  {
   "cell_type": "markdown",
   "metadata": {},
   "source": [
    "# Plated Models\n",
    "\n",
    "Now that we have a basic idea of how Alan works, lets try making our models more complex. In particular, lets try to model some data that has a heirarchical structure. \n",
    "\n",
    "## MovieLens\n",
    "\n",
    "The [[MovieLens-100k dataset]](https://grouplens.org/datasets/movielens/100k/) consists of 100,000 movie ratings from 1000 users on 1700 movies. Each film, indexed $j$ has a vector of genre tags $x_j$. We observe user ratings $y_{mj}$ for each user $m$ and film $j$ and binarise them according to ${0,1,2,3} \\rightarrow 0$ and ${4,5} \\rightarrow 1$ to get $\\mathrm{Rating}_{mj}$.\n",
    "\n",
    "We can model this data using a hierarchical bayesian model as so:\n",
    "\n",
    "$$\n",
    "\\begin{align}\n",
    "\\nonumber\n",
    "\\boldsymbol{\\mu} &\\sim \\mathcal{N}(\\mathbf{0}_{18},1) \\\\\n",
    "\\nonumber\n",
    "\\psi &\\sim \\operatorname{Categorical}([0.1,0.5,0.4,0.05,0.05]) \\\\\n",
    "\\nonumber\n",
    "\\mathbf{z}_m &\\sim \\mathcal{N}(\\boldsymbol{\\mu},\\exp(\\psi) \\mathbf{I}), \\ m=1,\\dotsc,M \\\\\n",
    "\\mathrm{Rating}_{mj} &\\sim \\operatorname{Bernoulli}(\\sigma(\\mathbf{z}_m^\\intercal \\mathbf{x}_j)), \\ j=1,\\dotsc,\\mathrm{N}\n",
    "\\end{align}\n",
    "$$\n",
    "\n",
    "First we get our data, the data must be appropriately named according to the plate names in the model:"
   ]
  },
  {
   "cell_type": "code",
   "execution_count": 9,
   "metadata": {},
   "outputs": [],
   "source": [
    "M=450\n",
    "N=20\n",
    "\n",
    "sizes = {'Users':M, 'Films':N}\n",
    "d_z = 18\n",
    "\n",
    "covariates = {'x':t.load('movielens_data/weights_{0}_{1}.pt'.format(N, M))}\n",
    "test_covariates = {'x':t.load('movielens_data/test_weights_{0}_{1}.pt'.format(N, M))}\n",
    "all_covariates = {'x': t.cat([covariates['x'],test_covariates['x']],-2).rename('Users','Films',...)}\n",
    "covariates['x'] = covariates['x'].rename('Users','Films',...)\n",
    "test_covariates['x'] = test_covariates['x'].rename('Users','Films',...)\n",
    "\n",
    "\n",
    "data = {'obs':t.load('movielens_data/data_y_{0}_{1}.pt'.format(N, M))}\n",
    "test_data = {'obs':t.load('movielens_data/test_data_y_{0}_{1}.pt'.format(N, M))}\n",
    "all_data = {'obs': t.cat([data['obs'],test_data['obs']], -1).rename('Users','Films')}\n",
    "data['obs'] = data['obs'].rename('Users','Films')\n",
    "test_data['obs'] = test_data['obs'].rename('Users','Films')"
   ]
  },
  {
   "cell_type": "markdown",
   "metadata": {},
   "source": [
    "Then we can define our model:"
   ]
  },
  {
   "cell_type": "code",
   "execution_count": 10,
   "metadata": {},
   "outputs": [],
   "source": [
    "from alan import Bernoulli\n",
    "\n",
    "P = Plate(\n",
    "        mu_z = Normal(t.zeros((d_z,)), t.ones((d_z,))),\n",
    "        psi_z = Normal(t.zeros((d_z,)), t.ones((d_z,))),\n",
    "        Users = Plate(\n",
    "            z = Normal(\"mu_z\", lambda psi_z: psi_z.exp()),\n",
    "            Films = Plate(\n",
    "                obs = Bernoulli(logits = lambda z, x: z @ x),\n",
    "            )\n",
    "        ),\n",
    "    )\n",
    "\n",
    "P = BoundPlate(P, sizes, inputs = covariates)\n",
    "\n",
    "Q = Plate(\n",
    "    mu_z = Normal(\"mu_z_loc\", \"mu_z_scale\"),\n",
    "    psi_z = Normal(\"psi_z_loc\", \"psi_z_scale\"),\n",
    "    Users = Plate(\n",
    "        z = Normal(\"z_loc\", \"z_scale\"),\n",
    "\n",
    "        Films = Plate(\n",
    "            obs = Data()\n",
    "        )\n",
    "    ),\n",
    ")\n",
    "\n",
    "Q = BoundPlate(Q, sizes,\n",
    "                extra_opt_params = {\"mu_z_loc\":   t.zeros((d_z,)), \n",
    "                                    \"mu_z_scale\": t.ones((d_z,)),\n",
    "                                    \"psi_z_loc\":   t.zeros((d_z,)), \n",
    "                                    \"psi_z_scale\": t.ones((d_z,)),\n",
    "                                    \"z_loc\":   t.zeros((M, d_z), names=('Users', None)),\n",
    "                                    \"z_scale\": t.ones((M, d_z), names=('Users', None))})"
   ]
  },
  {
   "cell_type": "markdown",
   "metadata": {},
   "source": [
    "Now we can run inference:"
   ]
  },
  {
   "cell_type": "code",
   "execution_count": 13,
   "metadata": {},
   "outputs": [
    {
     "name": "stdout",
     "output_type": "stream",
     "text": [
      "K=10\n",
      "-9404.159831219831\n"
     ]
    }
   ],
   "source": [
    "prob = Problem(P, Q, data)\n",
    "prob.to(device)\n",
    "\n",
    "elbos = []\n",
    "opt = t.optim.Adam(prob.Q.parameters(), lr=1e-3)\n",
    "\n",
    "K=10\n",
    "print(\"K={}\".format(K))\n",
    "for i in range(200):\n",
    "    opt.zero_grad()\n",
    "    sample = prob.sample(K=K)\n",
    "    elbo = sample.elbo_vi(computation_strategy=computation_strategy)\n",
    "    elbo.backward()\n",
    "    opt.step()\n",
    "\n",
    "    elbos.append(elbo.item())\n",
    "    if 0 == i%200:\n",
    "        print(elbo.item())"
   ]
  },
  {
   "cell_type": "markdown",
   "metadata": {},
   "source": [
    "And lets look at the results:"
   ]
  },
  {
   "cell_type": "code",
   "execution_count": 14,
   "metadata": {},
   "outputs": [
    {
     "data": {
      "image/png": "[encoded data removed]",
      "text/plain": [
       "<Figure size 1000x500 with 2 Axes>"
      ]
     },
     "metadata": {},
     "output_type": "display_data"
    }
   ],
   "source": [
    "#plotting elbos and predictive lls in a single figure\n",
    "\n",
    "fig, ax = plt.subplots(1,2, figsize=(10,5))\n",
    "ax[0].plot(elbos, c='red')\n",
    "ax[0].set_xlabel('Iterations')\n",
    "ax[0].set_ylabel('ELBO')\n",
    "\n",
    "# ax[1].plot(pred_lls)\n",
    "# ax[1].set_xlabel('Iterations')\n",
    "# ax[1].set_ylabel('Predictive LL')\n",
    "\n",
    "plt.tight_layout()\n",
    "plt.show()\n"
   ]
  },
  {
   "cell_type": "markdown",
   "metadata": {},
   "source": [
    "Note how we compute predictive log likelihoods:"
   ]
  },
  {
   "cell_type": "code",
   "execution_count": null,
   "metadata": {},
   "outputs": [
    {
     "data": {
      "text/plain": [
       "tensor(-5844.3090, dtype=torch.float64)"
      ]
     },
     "execution_count": 42,
     "metadata": {},
     "output_type": "execute_result"
    }
   ],
   "source": []
  },
  {
   "cell_type": "markdown",
   "metadata": {},
   "source": [
    "# MP Importance Weighted Moment Estimates\n",
    "\n",
    "We can also use Alan to compute importance weighted moment estimates of the posterior. This is useful for computing things like the posterior mean and variance and can be used directly in a Bayesian workflow or for the initialisation of MCMC or a variational posterior for instance. First define a model and some data:"
   ]
  },
  {
   "cell_type": "code",
   "execution_count": null,
   "metadata": {},
   "outputs": [],
   "source": [
    "P = Plate(\n",
    "    ab = Group(\n",
    "        a = Normal(0, 1),\n",
    "        b = Normal(\"a\", 1),\n",
    "    ),\n",
    "    c = Normal(0, lambda a: a.exp()),\n",
    "    p1 = Plate(\n",
    "        d = Normal(\"a\", 1),\n",
    "        p2 = Plate(\n",
    "            e = Normal(\"d\", 1.),\n",
    "        ),\n",
    "    ),\n",
    ")\n",
    "\n",
    "Q = Plate(\n",
    "    ab = Group(\n",
    "        a = Normal(\"a_mean\", 1),\n",
    "        b = Normal(\"a\", 1),\n",
    "    ),\n",
    "    c = Normal(0, lambda a: a.exp()),\n",
    "    p1 = Plate(\n",
    "        d = Normal(\"d_mean\", 1),\n",
    "        p2 = Plate(\n",
    "            e = Data()\n",
    "        ),\n",
    "    ),\n",
    ")\n",
    "\n",
    "platesizes = {'p1': 3, 'p2': 4}\n",
    "data = {'e': t.randn(3, 4, names=('p1', 'p2'))}\n",
    "\n",
    "P = BoundPlate(P, platesizes)\n",
    "Q = BoundPlate(Q, platesizes, extra_opt_params={'a_mean': t.zeros(()), 'd_mean':t.zeros(3, names=('p1',))})\n",
    "\n",
    "prob = Problem(P, Q, data)\n",
    "\n",
    "# Get some initial samples (with K=3 dims)\n",
    "sample = prob.sample(3, True)"
   ]
  },
  {
   "cell_type": "markdown",
   "metadata": {},
   "source": [
    "Then we can compute some posterior moments:"
   ]
  },
  {
   "cell_type": "code",
   "execution_count": null,
   "metadata": {},
   "outputs": [],
   "source": [
    "#Import some moment functions, mean, variance and mean squared\n",
    "from alan import mean, var, mean2\n",
    "\n",
    "#We can compute moments in three ways:\n",
    "\n",
    "#By computing the posterior marginals and using these to compute the moments \n",
    "marginals = sample.marginals()\n",
    "marginal_moments = marginals.moments([('d', mean), ('d', mean2), ('c', mean2), ('c', var)])\n",
    "\n",
    "#By computing moments using the source term trick from approximate posterior samples\n",
    "moments = sample.moments((('d', mean), ('d', mean2), ('c', mean2)))\n",
    "\n",
    "#By drawing importance samples and using these to compute the moments\n",
    "importance_samples = sample.importance_sample(N=1000)\n",
    "posterior_moments = importance_samples.moments((('d', mean), ('d', mean2), ('c', mean2)))\n"
   ]
  },
  {
   "cell_type": "markdown",
   "metadata": {},
   "source": [
    "# Models where both P and Q have parameters"
   ]
  },
  {
   "cell_type": "markdown",
   "metadata": {},
   "source": [
    "In many cases (such as the VAE) both $P$ and $Q$ have parameters we wish to learn. We may also wish to learn some parameters using an expectation maximisation scheme, whilst also learning the others using VI or RWS. \n",
    "\n",
    "First we need to define a model, specifying if a parameter is to be learnt using an optimiser (using ``OptParam``) or not (using ``QEMParam``). We specify the initial values of our parameters as arguments to the ``OptParam`` and ``QEMParam`` classes. We can also specify learnable params as strings, but must then specify the initial values in ``extra_opt_params``. "
   ]
  },
  {
   "cell_type": "code",
   "execution_count": null,
   "metadata": {},
   "outputs": [],
   "source": [
    "P_plate = Plate( \n",
    "    a = Normal(OptParam(0., name='a_loc_P'), 1),\n",
    "    bc = Group(\n",
    "        b = Normal('a', 1),\n",
    "        c = Normal('b', 1),\n",
    "    ),\n",
    "    d = Normal(0, lambda c: c.exp()),\n",
    "    p1 = Plate(\n",
    "        e = Normal(\"d\", 1),\n",
    "        p2 = Plate(\n",
    "            f = Normal(\"e\", 1.),\n",
    "        ),\n",
    "    ),\n",
    ")\n",
    "\n",
    "Q_plate = Plate( \n",
    "    a = Normal(QEMParam(0.), QEMParam(1.)),\n",
    "    bc = Group(\n",
    "        b = Normal(QEMParam(0.), QEMParam(1.)),\n",
    "        c = Normal('c_loc', lambda c_log_scale: c_log_scale.exp())\n",
    "    ),\n",
    "    d = Normal(0, lambda c: c.exp()),\n",
    "    p1 = Plate(\n",
    "        e = Normal(QEMParam(0.), QEMParam(1.)),\n",
    "        p2 = Plate(\n",
    "            f = Data(),\n",
    "        ),\n",
    "    ),\n",
    ")\n",
    "\n",
    "all_platesizes = {'p1': 4, 'p2': 6}\n",
    "extra_opt_params = {'c_loc': t.zeros(()), 'c_log_scale': t.zeros(())}\n",
    "\n",
    "P_bound_plate = BoundPlate(P_plate, all_platesizes)\n",
    "Q_bound_plate = BoundPlate(Q_plate, all_platesizes, extra_opt_params=extra_opt_params)\n",
    "\n",
    "P_sample = P_bound_plate.sample()\n",
    "data = {'f': P_sample['f']}\n",
    "\n",
    "problem = Problem(P_bound_plate, Q_bound_plate, data)\n",
    "#Move problem to the device.\n",
    "problem.to(device=device)"
   ]
  },
  {
   "cell_type": "markdown",
   "metadata": {},
   "source": [
    "We can then run inference with the previously discussed methods:"
   ]
  },
  {
   "cell_type": "code",
   "execution_count": null,
   "metadata": {},
   "outputs": [],
   "source": [
    "sample = problem.sample(K=10)\n",
    "\n",
    "#Update QEM Params\n",
    "sample.update_qem_params(0.1, computation_strategy=computation_strategy)\n",
    "\n",
    "#Update Opt Params using VI\n",
    "vi_opt = t.optim.Adam(problem.parameters(), lr=0.01, maximize=True)\n",
    "\n",
    "sample.elbo_vi(computation_strategy=computation_strategy).backward()\n",
    "vi_opt.step()\n",
    "vi_opt.zero_grad()\n",
    "\n",
    "\n",
    "\n",
    "#Update Opt Params using RWS.\n",
    "rws_P_opt = t.optim.Adam(problem.P.parameters(), lr=0.01, maximize=True)\n",
    "rws_Q_opt = t.optim.Adam(problem.Q.parameters(), lr=0.01, maximize=False)\n",
    "\n",
    "sample.elbo_rws(computation_strategy=computation_strategy).backward()\n",
    "rws_P_opt.step()\n",
    "rws_Q_opt.step()\n",
    "\n",
    "rws_P_opt.zero_grad()\n",
    "rws_Q_opt.zero_grad()"
   ]
  },
  {
   "cell_type": "markdown",
   "metadata": {},
   "source": [
    "# Saving and loading Models\n",
    "\n",
    "Users can easily save and load models as follows:"
   ]
  },
  {
   "cell_type": "code",
   "execution_count": null,
   "metadata": {},
   "outputs": [],
   "source": [
    "Q_bound_plate = BoundPlate(Q_plate, all_platesizes, extra_opt_params=extra_opt_params)\n",
    "\n",
    "#Saving models to disk\n",
    "t.save(Q_bound_plate.state_dict(), 'Qb_trained.pth')\n",
    "\n",
    "#loading model from disk\n",
    "Q_bound_plate.load_state_dict(t.load('Qb_trained.pth'))\n",
    "\n",
    "#Alternatively one can save the entire problems state_dict\n",
    "t.save(problem.state_dict(), 'problem_trained.pth')\n",
    "problem.load_state_dict(t.load('problem_trained.pth'))"
   ]
  },
  {
   "cell_type": "markdown",
   "metadata": {},
   "source": [
    "## Next Steps\n",
    "\n",
    "The API documentation can be found at [alan.readthedocs.io](https://alan.readthedocs.io/en/latest/). The source code can be found at [github.com/pyro-ppl/alan](https://github.com/pyro-ppl/alan).\n",
    "\n",
    "Further examples can be found at [Examples](https://alan.readthedocs.io/en/latest/examples)."
   ]
  }
 ],
 "metadata": {
  "kernelspec": {
   "display_name": "alan",
   "language": "python",
   "name": "python3"
  },
  "language_info": {
   "codemirror_mode": {
    "name": "ipython",
    "version": 3
   },
   "file_extension": ".py",
   "mimetype": "text/x-python",
   "name": "python",
   "nbconvert_exporter": "python",
   "pygments_lexer": "ipython3",
   "version": "3.10.13"
  },
  "orig_nbformat": 4
 },
 "nbformat": 4,
 "nbformat_minor": 2
}
